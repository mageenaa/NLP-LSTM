{
 "cells": [
  {
   "cell_type": "code",
   "execution_count": 76,
   "metadata": {},
   "outputs": [],
   "source": [
    "import pandas as pd\n",
    "import numpy as np\n",
    "import matplotlib.pyplot as plt\n",
    "from sklearn.metrics import classification_report, accuracy_score, precision_score, recall_score, f1_score\n",
    "\n",
    "\n",
    "from sklearn.model_selection import train_test_split\n",
    "from sklearn.preprocessing import LabelEncoder\n",
    "\n",
    "\n",
    "from tensorflow.keras.preprocessing import sequence\n",
    "from tensorflow.keras.preprocessing.sequence import pad_sequences\n",
    "from tensorflow.keras.preprocessing.text import Tokenizer"
   ]
  },
  {
   "cell_type": "code",
   "execution_count": 77,
   "metadata": {},
   "outputs": [],
   "source": [
    "import warnings\n",
    "warnings.filterwarnings(\"ignore\")"
   ]
  },
  {
   "cell_type": "code",
   "execution_count": 99,
   "metadata": {},
   "outputs": [],
   "source": [
    "df = pd.read_excel('dataset\\Dataset Text.xlsx')"
   ]
  },
  {
   "cell_type": "code",
   "execution_count": 101,
   "metadata": {},
   "outputs": [
    {
     "data": {
      "text/html": [
       "<div>\n",
       "<style scoped>\n",
       "    .dataframe tbody tr th:only-of-type {\n",
       "        vertical-align: middle;\n",
       "    }\n",
       "\n",
       "    .dataframe tbody tr th {\n",
       "        vertical-align: top;\n",
       "    }\n",
       "\n",
       "    .dataframe thead th {\n",
       "        text-align: right;\n",
       "    }\n",
       "</style>\n",
       "<table border=\"1\" class=\"dataframe\">\n",
       "  <thead>\n",
       "    <tr style=\"text-align: right;\">\n",
       "      <th></th>\n",
       "      <th>Kalimat</th>\n",
       "      <th>Label</th>\n",
       "      <th>Text</th>\n",
       "    </tr>\n",
       "  </thead>\n",
       "  <tbody>\n",
       "    <tr>\n",
       "      <th>0</th>\n",
       "      <td>R1</td>\n",
       "      <td>supports</td>\n",
       "      <td>competition can effectively promote the develo...</td>\n",
       "    </tr>\n",
       "    <tr>\n",
       "      <th>1</th>\n",
       "      <td>R2</td>\n",
       "      <td>attacks</td>\n",
       "      <td>competition can effectively promote the develo...</td>\n",
       "    </tr>\n",
       "    <tr>\n",
       "      <th>2</th>\n",
       "      <td>R3</td>\n",
       "      <td>supports</td>\n",
       "      <td>what we acquired from team work is not only ho...</td>\n",
       "    </tr>\n",
       "    <tr>\n",
       "      <th>3</th>\n",
       "      <td>R4</td>\n",
       "      <td>supports</td>\n",
       "      <td>through cooperation children can learn about i...</td>\n",
       "    </tr>\n",
       "    <tr>\n",
       "      <th>4</th>\n",
       "      <td>R5</td>\n",
       "      <td>supports</td>\n",
       "      <td>all of these skills help them to get on well w...</td>\n",
       "    </tr>\n",
       "  </tbody>\n",
       "</table>\n",
       "</div>"
      ],
      "text/plain": [
       "  Kalimat     Label                                               Text\n",
       "0      R1  supports  competition can effectively promote the develo...\n",
       "1      R2   attacks  competition can effectively promote the develo...\n",
       "2      R3  supports  what we acquired from team work is not only ho...\n",
       "3      R4  supports  through cooperation children can learn about i...\n",
       "4      R5  supports  all of these skills help them to get on well w..."
      ]
     },
     "execution_count": 101,
     "metadata": {},
     "output_type": "execute_result"
    }
   ],
   "source": [
    "df.head()"
   ]
  },
  {
   "cell_type": "code",
   "execution_count": 102,
   "metadata": {},
   "outputs": [],
   "source": [
    "df = df.drop(['Kalimat'],axis=1)"
   ]
  },
  {
   "cell_type": "code",
   "execution_count": 103,
   "metadata": {},
   "outputs": [
    {
     "data": {
      "text/html": [
       "<div>\n",
       "<style scoped>\n",
       "    .dataframe tbody tr th:only-of-type {\n",
       "        vertical-align: middle;\n",
       "    }\n",
       "\n",
       "    .dataframe tbody tr th {\n",
       "        vertical-align: top;\n",
       "    }\n",
       "\n",
       "    .dataframe thead th {\n",
       "        text-align: right;\n",
       "    }\n",
       "</style>\n",
       "<table border=\"1\" class=\"dataframe\">\n",
       "  <thead>\n",
       "    <tr style=\"text-align: right;\">\n",
       "      <th></th>\n",
       "      <th>Label</th>\n",
       "      <th>Text</th>\n",
       "    </tr>\n",
       "  </thead>\n",
       "  <tbody>\n",
       "    <tr>\n",
       "      <th>0</th>\n",
       "      <td>supports</td>\n",
       "      <td>competition can effectively promote the develo...</td>\n",
       "    </tr>\n",
       "    <tr>\n",
       "      <th>1</th>\n",
       "      <td>attacks</td>\n",
       "      <td>competition can effectively promote the develo...</td>\n",
       "    </tr>\n",
       "    <tr>\n",
       "      <th>2</th>\n",
       "      <td>supports</td>\n",
       "      <td>what we acquired from team work is not only ho...</td>\n",
       "    </tr>\n",
       "    <tr>\n",
       "      <th>3</th>\n",
       "      <td>supports</td>\n",
       "      <td>through cooperation children can learn about i...</td>\n",
       "    </tr>\n",
       "    <tr>\n",
       "      <th>4</th>\n",
       "      <td>supports</td>\n",
       "      <td>all of these skills help them to get on well w...</td>\n",
       "    </tr>\n",
       "  </tbody>\n",
       "</table>\n",
       "</div>"
      ],
      "text/plain": [
       "      Label                                               Text\n",
       "0  supports  competition can effectively promote the develo...\n",
       "1   attacks  competition can effectively promote the develo...\n",
       "2  supports  what we acquired from team work is not only ho...\n",
       "3  supports  through cooperation children can learn about i...\n",
       "4  supports  all of these skills help them to get on well w..."
      ]
     },
     "execution_count": 103,
     "metadata": {},
     "output_type": "execute_result"
    }
   ],
   "source": [
    "df.head()"
   ]
  },
  {
   "cell_type": "code",
   "execution_count": 104,
   "metadata": {},
   "outputs": [
    {
     "data": {
      "text/plain": [
       "Text(0.5, 1.0, 'Label Data Distribution')"
      ]
     },
     "execution_count": 104,
     "metadata": {},
     "output_type": "execute_result"
    },
    {
     "data": {
      "image/png": "[encoded data removed]",
      "text/plain": [
       "<Figure size 800x400 with 1 Axes>"
      ]
     },
     "metadata": {},
     "output_type": "display_data"
    }
   ],
   "source": [
    "val_count = df.Label.value_counts()\n",
    "\n",
    "plt.figure(figsize=(8,4))\n",
    "plt.bar(val_count.index, val_count.values)\n",
    "plt.title('Label Data Distribution')"
   ]
  },
  {
   "cell_type": "markdown",
   "metadata": {},
   "source": [
    "# Balancing"
   ]
  },
  {
   "cell_type": "code",
   "execution_count": 105,
   "metadata": {},
   "outputs": [],
   "source": [
    "from imblearn.over_sampling import SMOTEN, SMOTE, ADASYN, RandomOverSampler\n",
    "from imblearn.combine import SMOTETomek\n",
    "from collections import Counter"
   ]
  },
  {
   "cell_type": "code",
   "execution_count": 106,
   "metadata": {},
   "outputs": [],
   "source": [
    "x = df['Text']\n",
    "y = df['Label'].values"
   ]
  },
  {
   "cell_type": "code",
   "execution_count": 107,
   "metadata": {},
   "outputs": [],
   "source": [
    "le = LabelEncoder()\n",
    "y = le.fit_transform(y)\n",
    "y = y.reshape(-1,1)"
   ]
  },
  {
   "cell_type": "markdown",
   "metadata": {},
   "source": [
    "TFIDFVectorizer"
   ]
  },
  {
   "cell_type": "code",
   "execution_count": 108,
   "metadata": {},
   "outputs": [],
   "source": [
    "from sklearn.feature_extraction.text import CountVectorizer\n",
    "from sklearn.feature_extraction.text import TfidfTransformer, TfidfVectorizer"
   ]
  },
  {
   "cell_type": "code",
   "execution_count": 109,
   "metadata": {},
   "outputs": [],
   "source": [
    "tfidf = TfidfVectorizer()\n",
    "x_tfid = tfidf.fit_transform(x).toarray()"
   ]
  },
  {
   "cell_type": "markdown",
   "metadata": {},
   "source": [
    "SMOTEN"
   ]
  },
  {
   "cell_type": "code",
   "execution_count": 111,
   "metadata": {},
   "outputs": [],
   "source": [
    "smote = SMOTE(random_state=42, sampling_strategy='auto', k_neighbors=5, n_jobs=-1)\n",
    "x_smote, y_smote = smote.fit_resample(x_tfid, y)"
   ]
  },
  {
   "cell_type": "code",
   "execution_count": 112,
   "metadata": {},
   "outputs": [
    {
     "name": "stdout",
     "output_type": "stream",
     "text": [
      "After OverSampling: Counter({1: 906, 0: 906})\n"
     ]
    }
   ],
   "source": [
    "print(f'After OverSampling: {Counter(y_smote)}')"
   ]
  },
  {
   "cell_type": "markdown",
   "metadata": {},
   "source": [
    "# Modelling Scikit-learn"
   ]
  },
  {
   "cell_type": "code",
   "execution_count": 113,
   "metadata": {},
   "outputs": [],
   "source": [
    "from sklearn.naive_bayes import GaussianNB, MultinomialNB\n",
    "from sklearn.ensemble import RandomForestClassifier\n",
    "from sklearn.svm import SVC\n",
    "from sklearn.neighbors import KNeighborsClassifier\n",
    "from xgboost import XGBClassifier\n",
    "\n",
    "from sklearn.model_selection import cross_val_score"
   ]
  },
  {
   "cell_type": "code",
   "execution_count": 114,
   "metadata": {},
   "outputs": [],
   "source": [
    "models = [\n",
    "    RandomForestClassifier(n_estimators=200, max_depth=3, random_state=0),      #n_estimators=200, max_depth=3, random_state=0\n",
    "    GaussianNB(),\n",
    "    SVC(),\n",
    "    MultinomialNB(),\n",
    "    KNeighborsClassifier(n_neighbors=3),\n",
    "    XGBClassifier(),\n",
    "]\n",
    "\n",
    "target_models = ['RandomForestClassifier', 'GaussianNB', 'SVC', 'MultinomialNB', 'KNeighborsClassifier','XGBClassifier']\n",
    "CV = 6\n",
    "classification_reports = []\n",
    "entries = []\n",
    "\n",
    "for target_model in target_models:\n",
    "    for model in models:\n",
    "        model_name = model.__class__.__name__\n",
    "        if model_name == target_model:\n",
    "            accuracies = cross_val_score(model, x_smote, y_smote, scoring='accuracy', cv=CV)\n",
    "\n",
    "            avg_accuracy = np.mean(accuracies)\n",
    "            predictions = model.fit(x_smote, y_smote).predict(x_smote)\n",
    "\n",
    "            report = classification_report(y_smote, predictions, output_dict=True)\n",
    "            entries.append((model_name, avg_accuracy, report))"
   ]
  },
  {
   "cell_type": "code",
   "execution_count": 115,
   "metadata": {},
   "outputs": [
    {
     "name": "stdout",
     "output_type": "stream",
     "text": [
      "Classification Report for RandomForestClassifier - Average over all folds:\n",
      "\n",
      "Average Accuracy: 0.8157\n",
      "\n",
      "              precision    recall  f1-score      support\n",
      "0              0.965565  0.773731  0.859069   906.000000\n",
      "1              0.811234  0.972406  0.884538   906.000000\n",
      "accuracy       0.873068  0.873068  0.873068     0.873068\n",
      "macro avg      0.888399  0.873068  0.871803  1812.000000\n",
      "weighted avg   0.888399  0.873068  0.871803  1812.000000\n",
      "\n",
      "\n",
      "Classification Report for GaussianNB - Average over all folds:\n",
      "\n",
      "Average Accuracy: 0.8951\n",
      "\n",
      "              precision    recall  f1-score      support\n",
      "0              0.970021  1.000000  0.984783   906.000000\n",
      "1              1.000000  0.969095  0.984305   906.000000\n",
      "accuracy       0.984547  0.984547  0.984547     0.984547\n",
      "macro avg      0.985011  0.984547  0.984544  1812.000000\n",
      "weighted avg   0.985011  0.984547  0.984544  1812.000000\n",
      "\n",
      "\n",
      "Classification Report for SVC - Average over all folds:\n",
      "\n",
      "Average Accuracy: 0.9636\n",
      "\n",
      "              precision    recall  f1-score      support\n",
      "0              0.998896  0.998896  0.998896   906.000000\n",
      "1              0.998896  0.998896  0.998896   906.000000\n",
      "accuracy       0.998896  0.998896  0.998896     0.998896\n",
      "macro avg      0.998896  0.998896  0.998896  1812.000000\n",
      "weighted avg   0.998896  0.998896  0.998896  1812.000000\n",
      "\n",
      "\n",
      "Classification Report for MultinomialNB - Average over all folds:\n",
      "\n",
      "Average Accuracy: 0.7362\n",
      "\n",
      "              precision    recall  f1-score      support\n",
      "0              0.858518  0.984547  0.917224   906.000000\n",
      "1              0.981889  0.837748  0.904110   906.000000\n",
      "accuracy       0.911148  0.911148  0.911148     0.911148\n",
      "macro avg      0.920203  0.911148  0.910667  1812.000000\n",
      "weighted avg   0.920203  0.911148  0.910667  1812.000000\n",
      "\n",
      "\n",
      "Classification Report for KNeighborsClassifier - Average over all folds:\n",
      "\n",
      "Average Accuracy: 0.5254\n",
      "\n",
      "              precision    recall  f1-score      support\n",
      "0              0.842791  1.000000  0.914690   906.000000\n",
      "1              1.000000  0.813466  0.897139   906.000000\n",
      "accuracy       0.906733  0.906733  0.906733     0.906733\n",
      "macro avg      0.921395  0.906733  0.905914  1812.000000\n",
      "weighted avg   0.921395  0.906733  0.905914  1812.000000\n",
      "\n",
      "\n",
      "Classification Report for XGBClassifier - Average over all folds:\n",
      "\n",
      "Average Accuracy: 0.8924\n",
      "\n",
      "              precision  recall  f1-score  support\n",
      "0                   1.0     1.0       1.0    906.0\n",
      "1                   1.0     1.0       1.0    906.0\n",
      "accuracy            1.0     1.0       1.0      1.0\n",
      "macro avg           1.0     1.0       1.0   1812.0\n",
      "weighted avg        1.0     1.0       1.0   1812.0\n",
      "\n",
      "\n"
     ]
    }
   ],
   "source": [
    "for model_name, avg_accuracy, report in entries:\n",
    "    print(f\"Classification Report for {model_name} - Average over all folds:\\n\")\n",
    "    print(f\"Average Accuracy: {avg_accuracy:.4f}\\n\")\n",
    "    print(pd.DataFrame(report).transpose())\n",
    "    print(\"\\n\")"
   ]
  },
  {
   "cell_type": "code",
   "execution_count": 116,
   "metadata": {},
   "outputs": [
    {
     "data": {
      "image/png": "[encoded data removed]",
      "text/plain": [
       "<Figure size 1200x800 with 1 Axes>"
      ]
     },
     "metadata": {},
     "output_type": "display_data"
    }
   ],
   "source": [
    "model_names, accuracies = zip(*[(entry[0], entry[1]) for entry in entries])\n",
    "\n",
    "plt.figure(figsize=(12, 8))\n",
    "plt.bar(model_names, accuracies, color='skyblue')\n",
    "plt.xlabel('Model')\n",
    "plt.ylabel('Average Accuracy')\n",
    "plt.title('Average Accuracy for Each Model')\n",
    "plt.ylim([0, 1])  # Assuming accuracy ranges between 0 and 1\n",
    "plt.show()"
   ]
  },
  {
   "cell_type": "code",
   "execution_count": null,
   "metadata": {},
   "outputs": [],
   "source": []
  }
 ],
 "metadata": {
  "kernelspec": {
   "display_name": "Python 3",
   "language": "python",
   "name": "python3"
  },
  "language_info": {
   "codemirror_mode": {
    "name": "ipython",
    "version": 3
   },
   "file_extension": ".py",
   "mimetype": "text/x-python",
   "name": "python",
   "nbconvert_exporter": "python",
   "pygments_lexer": "ipython3",
   "version": "3.9.13"
  }
 },
 "nbformat": 4,
 "nbformat_minor": 2
}
