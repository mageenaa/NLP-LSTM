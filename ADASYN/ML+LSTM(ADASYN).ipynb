{
  "nbformat": 4,
  "nbformat_minor": 0,
  "metadata": {
    "colab": {
      "private_outputs": true,
      "provenance": []
    },
    "kernelspec": {
      "name": "python3",
      "display_name": "Python 3"
    },
    "language_info": {
      "name": "python"
    }
  },
  "cells": [
    {
      "cell_type": "code",
      "source": [
        "import pandas as pd\n",
        "teks = pd.read_excel(\"text.xlsx\")"
      ],
      "metadata": {
        "id": "iWK-Ezh1HKDg"
      },
      "execution_count": null,
      "outputs": []
    },
    {
      "cell_type": "code",
      "source": [
        "teks"
      ],
      "metadata": {
        "id": "UqHIM0s-IVUL"
      },
      "execution_count": null,
      "outputs": []
    },
    {
      "cell_type": "code",
      "source": [
        "teks.columns"
      ],
      "metadata": {
        "id": "AjPNo8xAJElU"
      },
      "execution_count": null,
      "outputs": []
    },
    {
      "cell_type": "code",
      "source": [
        "teks.isnull().sum()"
      ],
      "metadata": {
        "id": "0cuNP-1WIg3E"
      },
      "execution_count": null,
      "outputs": []
    },
    {
      "cell_type": "code",
      "source": [
        "teks['Kalimat'].unique()"
      ],
      "metadata": {
        "id": "VyH8A03UIj3r"
      },
      "execution_count": null,
      "outputs": []
    },
    {
      "cell_type": "code",
      "source": [
        "teks['Label'].value_counts()"
      ],
      "metadata": {
        "id": "nz_6pgoLIzIx"
      },
      "execution_count": null,
      "outputs": []
    },
    {
      "cell_type": "code",
      "source": [
        "teks['length_before_cleaning'] = teks['Text'].apply(lambda x: len(x))"
      ],
      "metadata": {
        "id": "pZmgRtvZJB70"
      },
      "execution_count": null,
      "outputs": []
    },
    {
      "cell_type": "code",
      "source": [
        "teks"
      ],
      "metadata": {
        "id": "dRgni6G7JOTX"
      },
      "execution_count": null,
      "outputs": []
    },
    {
      "cell_type": "code",
      "source": [
        "# Import library\n",
        "import nltk #import library Natural Language Toolkit\n",
        "from gensim.models import KeyedVectors\n",
        "import numpy as np"
      ],
      "metadata": {
        "id": "abBg9b3UD5s5"
      },
      "execution_count": null,
      "outputs": []
    },
    {
      "cell_type": "code",
      "source": [
        "nltk.download('punkt')"
      ],
      "metadata": {
        "id": "kRMjihY6D9Fa"
      },
      "execution_count": null,
      "outputs": []
    },
    {
      "cell_type": "code",
      "source": [
        "nltk.download('stopwords')"
      ],
      "metadata": {
        "id": "5gKUZNTgKY56"
      },
      "execution_count": null,
      "outputs": []
    },
    {
      "cell_type": "code",
      "source": [
        "#Lemmatisasi Text\n",
        "from nltk.stem import WordNetLemmatizer\n",
        "#tokenisasi text\n",
        "from nltk.tokenize import word_tokenize"
      ],
      "metadata": {
        "id": "JQz9iFG3KrF1"
      },
      "execution_count": null,
      "outputs": []
    },
    {
      "cell_type": "code",
      "source": [
        "# Download WordNet resource\n",
        "nltk.download('wordnet')"
      ],
      "metadata": {
        "id": "lL7iM8vvOrlh"
      },
      "execution_count": null,
      "outputs": []
    },
    {
      "cell_type": "code",
      "source": [
        "#reguler python (RegEx)\n",
        "import re"
      ],
      "metadata": {
        "id": "tljReFZuK7f3"
      },
      "execution_count": null,
      "outputs": []
    },
    {
      "cell_type": "code",
      "source": [
        "def convert_to_lower(text):\n",
        "    return text.lower()\n",
        "teks['Text'] = teks['Text'].apply(lambda x: convert_to_lower(x))"
      ],
      "metadata": {
        "id": "VBwULvs_LHMv"
      },
      "execution_count": null,
      "outputs": []
    },
    {
      "cell_type": "code",
      "source": [
        "def remove_numbers(text):\n",
        "    number_pattern = r'\\d+'\n",
        "    without_number = re.sub(pattern=number_pattern, repl=\" \", string=text)\n",
        "    return without_number\n",
        "\n",
        "teks['Text'] = teks['Text'].apply(lambda x: remove_numbers(x))"
      ],
      "metadata": {
        "id": "20xwO-prMfnU"
      },
      "execution_count": null,
      "outputs": []
    },
    {
      "cell_type": "code",
      "source": [
        "import string\n",
        "\n",
        "def remove_punctuation(text):\n",
        "    return text.translate(str.maketrans('', '', string.punctuation))\n",
        "\n",
        "teks['Text'] = teks['Text'].apply(lambda x: remove_punctuation(x))"
      ],
      "metadata": {
        "id": "F3zzFVxGMr4E"
      },
      "execution_count": null,
      "outputs": []
    },
    {
      "cell_type": "code",
      "source": [
        "from nltk.corpus import stopwords\n",
        "def remove_stopwords(text):\n",
        "    removed = []\n",
        "    stop_words = list(stopwords.words(\"english\"))\n",
        "    tokens = word_tokenize(text)\n",
        "    for i in range(len(tokens)):\n",
        "        if tokens[i] not in stop_words:\n",
        "            removed.append(tokens[i])\n",
        "    return \" \".join(removed)\n",
        "teks['Text'] = teks['Text'].apply(lambda x: remove_punctuation(x))"
      ],
      "metadata": {
        "id": "MK0hKiNvMotf"
      },
      "execution_count": null,
      "outputs": []
    },
    {
      "cell_type": "code",
      "source": [
        "def remove_extra_white_spaces(text):\n",
        "    single_char_pattern = r'\\s+[a-zA-Z]\\s+'\n",
        "    without_sc = re.sub(pattern=single_char_pattern, repl=\" \", string=text)\n",
        "    return without_sc\n",
        "teks['Text'] = teks['Text'].apply(lambda x: remove_extra_white_spaces(x))"
      ],
      "metadata": {
        "id": "CEQKc2l8N8R3"
      },
      "execution_count": null,
      "outputs": []
    },
    {
      "cell_type": "code",
      "source": [
        "def lemmatizing(text):\n",
        "    lemmatizer = WordNetLemmatizer()\n",
        "    tokens = word_tokenize(text)\n",
        "    for i in range(len(tokens)):\n",
        "        lemma_word = lemmatizer.lemmatize(tokens[i])\n",
        "        tokens[i] = lemma_word\n",
        "    return \" \".join(tokens)\n",
        "teks['Text'] = teks['Text'].apply(lambda x: lemmatizing(x))"
      ],
      "metadata": {
        "id": "YXY9Z3OvOEW3"
      },
      "execution_count": null,
      "outputs": []
    },
    {
      "cell_type": "code",
      "source": [
        "teks['length_after_cleaning'] = teks['Text'].apply(lambda x: len(x))"
      ],
      "metadata": {
        "id": "0Ig9SPKZOyBP"
      },
      "execution_count": null,
      "outputs": []
    },
    {
      "cell_type": "code",
      "source": [
        "teks"
      ],
      "metadata": {
        "id": "9LFgCGrvO5a4"
      },
      "execution_count": null,
      "outputs": []
    },
    {
      "cell_type": "code",
      "source": [
        "teks.dtypes"
      ],
      "metadata": {
        "id": "OlyLgBIR-TXK"
      },
      "execution_count": null,
      "outputs": []
    },
    {
      "cell_type": "code",
      "source": [
        "# Menghapus kolom 'Kota' dan mengubah dataframe asli\n",
        "teks.drop('Kalimat', axis = 1, inplace=True)"
      ],
      "metadata": {
        "id": "KVqB7VAN_hxV"
      },
      "execution_count": null,
      "outputs": []
    },
    {
      "cell_type": "code",
      "source": [
        "label_map = {\n",
        "    'supports': 0,\n",
        "    'attacks': 1,\n",
        "}\n",
        "\n",
        "teks['Label'] = teks['Label'].map(label_map)"
      ],
      "metadata": {
        "id": "eff8G02SDhlz"
      },
      "execution_count": null,
      "outputs": []
    },
    {
      "cell_type": "code",
      "source": [
        "teks.head()"
      ],
      "metadata": {
        "id": "q7nOPCrZANoK"
      },
      "execution_count": null,
      "outputs": []
    },
    {
      "cell_type": "code",
      "source": [
        "teks_lstm = teks.copy()\n",
        "teks_lstm"
      ],
      "metadata": {
        "id": "gSPy9ssnrg7x"
      },
      "execution_count": null,
      "outputs": []
    },
    {
      "cell_type": "code",
      "source": [
        "# Pisahkan fitur dan label\n",
        "X = teks['Text'] #fitur\n",
        "y = teks['Label'] #target"
      ],
      "metadata": {
        "id": "Yo9zYMHCKoDB"
      },
      "execution_count": null,
      "outputs": []
    },
    {
      "cell_type": "code",
      "source": [
        "from sklearn.feature_extraction.text import TfidfVectorizer\n",
        "# Inisialisasi vektorisasi teks (TF-IDF)\n",
        "vectorizer = TfidfVectorizer()\n",
        "X_tfidf = vectorizer.fit_transform(X)"
      ],
      "metadata": {
        "id": "_RMu1Ng1vQef"
      },
      "execution_count": null,
      "outputs": []
    },
    {
      "cell_type": "markdown",
      "source": [
        "**Dataset Balancing**"
      ],
      "metadata": {
        "id": "dkwEtDHDMd-s"
      }
    },
    {
      "cell_type": "code",
      "source": [
        "from imblearn.over_sampling import ADASYN\n",
        "ADA = ADASYN(random_state=130)\n",
        "X_train_ADA, y_train_ADA = ADA.fit_resample(X_tfidf, y)"
      ],
      "metadata": {
        "id": "-NOUzkUNtpif"
      },
      "execution_count": null,
      "outputs": []
    },
    {
      "cell_type": "code",
      "source": [
        "# from imblearn.over_sampling import SMOTE\n",
        "# # Inisialisasi SMOTE\n",
        "# smote = SMOTE(random_state=42)"
      ],
      "metadata": {
        "id": "tvebdzuGvY_g"
      },
      "execution_count": null,
      "outputs": []
    },
    {
      "cell_type": "code",
      "source": [
        "from collections import Counter\n",
        "print(Counter(y_train_ADA))"
      ],
      "metadata": {
        "id": "QAVLhR_uuHWF"
      },
      "execution_count": null,
      "outputs": []
    },
    {
      "cell_type": "markdown",
      "source": [
        "**SPLIT DATASET**"
      ],
      "metadata": {
        "id": "poUVLLyKMTem"
      }
    },
    {
      "cell_type": "code",
      "source": [
        "from sklearn.model_selection import train_test_split\n",
        "# Bagi dataset menjadi data pelatihan dan pengujian\n",
        "X_train, X_test, y_train, y_test = train_test_split(X_train_ADA, y_train_ADA, test_size=0.3, random_state=42)"
      ],
      "metadata": {
        "id": "j_xkQ-ldCaBt"
      },
      "execution_count": null,
      "outputs": []
    },
    {
      "cell_type": "markdown",
      "source": [
        "**NAIVE BAYES MULTINOMIAL**"
      ],
      "metadata": {
        "id": "lo9hhuqfm7HB"
      }
    },
    {
      "cell_type": "code",
      "source": [
        "from sklearn.naive_bayes import MultinomialNB\n",
        "from sklearn.feature_extraction.text import TfidfVectorizer\n",
        "from sklearn.metrics import classification_report"
      ],
      "metadata": {
        "id": "3NKtrBSsnDbg"
      },
      "execution_count": null,
      "outputs": []
    },
    {
      "cell_type": "code",
      "source": [
        "# Inisialisasi model Naive Bayes Multinomial\n",
        "NBM = MultinomialNB()\n",
        "# Pelatihan model\n",
        "NBM.fit(X_train, y_train)"
      ],
      "metadata": {
        "id": "nWMLoCaIm-tP"
      },
      "execution_count": null,
      "outputs": []
    },
    {
      "cell_type": "code",
      "source": [
        "# Evaluasi model pada data pengujian\n",
        "y_pred_nb = NBM.predict(X_test)\n",
        "\n",
        "from sklearn.metrics import accuracy_score\n",
        "\n",
        "print(\"Akurasi Naive Bayes Multinomial:\", accuracy_score(y_test, y_pred_nb))"
      ],
      "metadata": {
        "id": "hl61YNAqnFmp"
      },
      "execution_count": null,
      "outputs": []
    },
    {
      "cell_type": "code",
      "source": [
        "print(\"Naive Bayes Multinomial Classification Report:\\n\", classification_report(y_test, y_pred_nb))"
      ],
      "metadata": {
        "id": "BmYDcOTsnAag"
      },
      "execution_count": null,
      "outputs": []
    },
    {
      "cell_type": "markdown",
      "source": [
        "**SUPPORT VECTOR CLASSIFIER**"
      ],
      "metadata": {
        "id": "XAcCyRa4nJ-Q"
      }
    },
    {
      "cell_type": "code",
      "source": [
        "from sklearn.svm import SVC"
      ],
      "metadata": {
        "id": "ftLhxyG4nIQU"
      },
      "execution_count": null,
      "outputs": []
    },
    {
      "cell_type": "code",
      "source": [
        "# Inisialisasi model SVM\n",
        "svc_model = SVC(kernel='linear')\n",
        "# Pelatihan model\n",
        "svc_model.fit(X_train, y_train)"
      ],
      "metadata": {
        "id": "W4-55yytnO4D"
      },
      "execution_count": null,
      "outputs": []
    },
    {
      "cell_type": "code",
      "source": [
        "# Evaluasi model pada data pengujian\n",
        "y_pred_svc = svc_model.predict(X_test)\n",
        "\n",
        "from sklearn.metrics import accuracy_score\n",
        "\n",
        "print(\"Akurasi SVC:\", accuracy_score(y_test, y_pred_svc))"
      ],
      "metadata": {
        "id": "ALe2WGG6nUys"
      },
      "execution_count": null,
      "outputs": []
    },
    {
      "cell_type": "code",
      "source": [
        "print(\"SVC Classification Report:\\n\", classification_report(y_test, y_pred_svc))"
      ],
      "metadata": {
        "id": "3PRcRSnDnXpq"
      },
      "execution_count": null,
      "outputs": []
    },
    {
      "cell_type": "markdown",
      "source": [
        "**RANDOM FOREST**"
      ],
      "metadata": {
        "id": "D6S8Ph1Qnbf6"
      }
    },
    {
      "cell_type": "code",
      "source": [
        "from sklearn.ensemble import RandomForestClassifier"
      ],
      "metadata": {
        "id": "xapN4eX8nYfe"
      },
      "execution_count": null,
      "outputs": []
    },
    {
      "cell_type": "code",
      "source": [
        "# Inisialisasi model Random Forest\n",
        "rf_model = RandomForestClassifier(n_estimators=100, random_state=42)\n",
        "# Pelatihan model\n",
        "rf_model.fit(X_train, y_train)"
      ],
      "metadata": {
        "id": "-z3DXbBmngjT"
      },
      "execution_count": null,
      "outputs": []
    },
    {
      "cell_type": "code",
      "source": [
        "# Evaluasi model pada data pengujian\n",
        "y_pred_rf = rf_model.predict(X_test)\n",
        "\n",
        "from sklearn.metrics import accuracy_score\n",
        "\n",
        "print(\"Akurasi Random Forest:\", accuracy_score(y_test, y_pred_rf))"
      ],
      "metadata": {
        "id": "ifRhbYmjnhum"
      },
      "execution_count": null,
      "outputs": []
    },
    {
      "cell_type": "code",
      "source": [
        "print(\"Random Forest Classification Report:\\n\", classification_report(y_test, y_pred_rf))"
      ],
      "metadata": {
        "id": "-eO-63xtnkbC"
      },
      "execution_count": null,
      "outputs": []
    },
    {
      "cell_type": "markdown",
      "source": [
        "**K-Nearest Neighbors (KNN)**"
      ],
      "metadata": {
        "id": "0CIEaAtIXqZm"
      }
    },
    {
      "cell_type": "code",
      "source": [
        "from sklearn.neighbors import KNeighborsClassifier\n",
        "from sklearn.metrics import accuracy_score, classification_report"
      ],
      "metadata": {
        "id": "l-eRFHKYXvNo"
      },
      "execution_count": null,
      "outputs": []
    },
    {
      "cell_type": "code",
      "source": [
        "k = 3  # Jumlah tetangga yang akan digunakan\n",
        "knn_classifier = KNeighborsClassifier(n_neighbors=k)\n",
        "knn_classifier.fit(X_train, y_train)"
      ],
      "metadata": {
        "id": "Uoav7JEXX4Fc"
      },
      "execution_count": null,
      "outputs": []
    },
    {
      "cell_type": "code",
      "source": [
        "y_pred_knn = knn_classifier.predict(X_test)\n",
        "\n",
        "# Mengukur kinerja model\n",
        "print(\"Akurasi KNN:\", accuracy_score(y_test, y_pred_knn))"
      ],
      "metadata": {
        "id": "inmHE0S7X9pC"
      },
      "execution_count": null,
      "outputs": []
    },
    {
      "cell_type": "code",
      "source": [
        "print(\"KNN Classification Report:\\n\", classification_report(y_test, y_pred_knn))"
      ],
      "metadata": {
        "id": "IctO_YJgYrA7"
      },
      "execution_count": null,
      "outputs": []
    },
    {
      "cell_type": "markdown",
      "source": [
        "**XGBOOST**"
      ],
      "metadata": {
        "id": "UYvOiYhPZLjM"
      }
    },
    {
      "cell_type": "code",
      "source": [
        "import xgboost as xgb"
      ],
      "metadata": {
        "id": "Mfly-etJY3FS"
      },
      "execution_count": null,
      "outputs": []
    },
    {
      "cell_type": "code",
      "source": [
        "xgb = xgb.XGBClassifier(\n",
        "    objective=\"binary:logistic\",  # Klasifikasi biner\n",
        "    max_depth=3,                  # Kedalaman maksimum pohon\n",
        "    learning_rate=0.1,            # Tingkat pembelajaran\n",
        "    n_estimators=100              # Jumlah iterasi (pohon) atau estimator\n",
        ")\n",
        "xgb.fit(X_train, y_train)"
      ],
      "metadata": {
        "id": "2oTx62ipZdzy"
      },
      "execution_count": null,
      "outputs": []
    },
    {
      "cell_type": "code",
      "source": [
        "y_pred_xgb = xgb.predict(X_test)\n",
        "# Mengukur kinerja model\n",
        "print(\"Akurasi XGBoost:\", accuracy_score(y_test, y_pred_xgb))"
      ],
      "metadata": {
        "id": "eEesHZzFarY6"
      },
      "execution_count": null,
      "outputs": []
    },
    {
      "cell_type": "code",
      "source": [
        "print(\"XGBoost Classification Report:\\n\", classification_report(y_test, y_pred_xgb))"
      ],
      "metadata": {
        "id": "Xu6vTdzcbLb1"
      },
      "execution_count": null,
      "outputs": []
    },
    {
      "cell_type": "markdown",
      "source": [
        "**LSTM (LONG SHORT TERM MEMORY) + TOKENIZER**"
      ],
      "metadata": {
        "id": "CNk4JNLynk9e"
      }
    },
    {
      "cell_type": "code",
      "source": [
        "from tensorflow.keras.preprocessing.text import Tokenizer\n",
        "from tensorflow.keras.preprocessing.sequence import pad_sequences\n",
        "from tensorflow.keras.models import Sequential\n",
        "from tensorflow.keras.layers import Embedding, LSTM, Dense, SpatialDropout1D\n",
        "from sklearn.metrics import accuracy_score\n",
        "from sklearn.preprocessing import LabelEncoder"
      ],
      "metadata": {
        "id": "tg0jE2niezu5"
      },
      "execution_count": null,
      "outputs": []
    },
    {
      "cell_type": "code",
      "source": [
        "teks_lstm = teks.copy()\n",
        "teks_lstm"
      ],
      "metadata": {
        "id": "H9ea7akisCYi"
      },
      "execution_count": null,
      "outputs": []
    },
    {
      "cell_type": "code",
      "source": [
        "# Pisahkan fitur dan label\n",
        "X = teks_lstm['Text'] #fitur\n",
        "y = teks_lstm['Label'] #target"
      ],
      "metadata": {
        "id": "fzr78aS0qYLd"
      },
      "execution_count": null,
      "outputs": []
    },
    {
      "cell_type": "code",
      "source": [
        "max_features = 2000\n",
        "tokenizer = Tokenizer(num_words=max_features, split=' ')\n",
        "tokenizer.fit_on_texts(X.values)\n",
        "x = tokenizer.texts_to_sequences(X.values)\n",
        "x = pad_sequences(x)"
      ],
      "metadata": {
        "id": "5G4Js-1Dsg8x"
      },
      "execution_count": null,
      "outputs": []
    },
    {
      "cell_type": "code",
      "source": [
        "le = LabelEncoder()\n",
        "y = le.fit_transform(y.values)\n",
        "y = y.reshape(-1,1)"
      ],
      "metadata": {
        "id": "C_3s2fXysidv"
      },
      "execution_count": null,
      "outputs": []
    },
    {
      "cell_type": "code",
      "source": [
        "# Balancing dataset menggunakan ADASYN\n",
        "ADASYN= ADASYN(random_state=42)\n",
        "X_ADA, y_ADA = ADASYN.fit_resample(x, y)"
      ],
      "metadata": {
        "id": "BiukGXCJs2eu"
      },
      "execution_count": null,
      "outputs": []
    },
    {
      "cell_type": "code",
      "source": [
        "X_train, X_test, y_train, y_test = train_test_split(X_ADA, y_ADA, test_size=0.3, random_state=42)"
      ],
      "metadata": {
        "id": "2mmrm89rHeuG"
      },
      "execution_count": null,
      "outputs": []
    },
    {
      "cell_type": "code",
      "source": [
        "# model LSTM\n",
        "model = Sequential()\n",
        "model.add(Embedding(input_dim=len(tokenizer.word_index) + 1, output_dim=128, input_length=X_train.shape[1]))\n",
        "model.add(SpatialDropout1D(0.4))\n",
        "model.add(LSTM(196, dropout=0.2, recurrent_dropout=0.2))\n",
        "model.add(Dense(2, activation='sigmoid'))"
      ],
      "metadata": {
        "id": "0i7tTJJKtL8Y"
      },
      "execution_count": null,
      "outputs": []
    },
    {
      "cell_type": "code",
      "source": [
        "model.compile(optimizer='adam', loss='sparse_categorical_crossentropy', metrics=['accuracy'])"
      ],
      "metadata": {
        "id": "u7ka3O77tULd"
      },
      "execution_count": null,
      "outputs": []
    },
    {
      "cell_type": "code",
      "source": [
        "# Melatih model pada seluruh dataset\n",
        "model.fit(X_ADA, y_ADA, epochs=10, batch_size=64, validation_data=(X_ADA, y_ADA))"
      ],
      "metadata": {
        "id": "EEm2q7pOtU2B"
      },
      "execution_count": null,
      "outputs": []
    }
  ]
}